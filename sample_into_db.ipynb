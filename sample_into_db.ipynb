{
 "cells": [
  {
   "cell_type": "code",
   "execution_count": null,
   "id": "6165b8fe",
   "metadata": {},
   "outputs": [],
   "source": [
    "from dotenv import load_dotenv\n",
    "from sqlalchemy import create_engine\n",
    "from sqlalchemy.engine import URL\n",
    "import os"
   ]
  },
  {
   "cell_type": "markdown",
   "id": "a4a23397",
   "metadata": {},
   "source": [
    "Loading environment variables (.env)"
   ]
  },
  {
   "cell_type": "code",
   "execution_count": null,
   "id": "2e15e26c",
   "metadata": {},
   "outputs": [],
   "source": [
    "# This allows to change credentials without changing code.\n",
    "load_dotenv()\n",
    "\n",
    "DB_USER = os.getenv(\"DB_USER\", \"postgres\")\n",
    "DB_PASS = os.getenv(\"DB_PASS\", \"\")\n",
    "DB_NAME = os.getenv(\"DB_NAME\", \"ecom\")\n",
    "DB_HOST = os.getenv(\"DB_HOST\", \"localhost\")\n",
    "DB_PORT = int(os.getenv(\"DB_PORT\", \"5432\"))"
   ]
  },
  {
   "cell_type": "markdown",
   "id": "4b7ce048",
   "metadata": {},
   "source": [
    "Building the SQLAlchemy engine URL"
   ]
  },
  {
   "cell_type": "code",
   "execution_count": null,
   "id": "b2a83774",
   "metadata": {},
   "outputs": [],
   "source": [
    "# Connecting to \"ecom\" DB\n",
    "url = URL.create(\n",
    "    \"postgresql+psycopg\",\n",
    "    username=DB_USER,\n",
    "    password=DB_PASS,\n",
    "    host=DB_HOST,\n",
    "    port=DB_PORT,\n",
    "    database=DB_NAME\n",
    ")\n",
    "\n",
    "# Creating engine\n",
    "engine = create_engine(url, echo=False, pool_pre_ping=True, future=True)"
   ]
  },
  {
   "cell_type": "code",
   "execution_count": null,
   "id": "22c1ca7e",
   "metadata": {},
   "outputs": [],
   "source": []
  }
 ],
 "metadata": {
  "kernelspec": {
   "display_name": ".venv",
   "language": "python",
   "name": "python3"
  },
  "language_info": {
   "codemirror_mode": {
    "name": "ipython",
    "version": 3
   },
   "file_extension": ".py",
   "mimetype": "text/x-python",
   "name": "python",
   "nbconvert_exporter": "python",
   "pygments_lexer": "ipython3",
   "version": "3.11.0"
  }
 },
 "nbformat": 4,
 "nbformat_minor": 5
}
