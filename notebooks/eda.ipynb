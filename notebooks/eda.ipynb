{
 "cells": [
  {
   "cell_type": "code",
   "execution_count": 3,
   "id": "3ac370c1",
   "metadata": {},
   "outputs": [],
   "source": [
    "import pandas as pd\n",
    "import warnings\n",
    "warnings.filterwarnings('ignore')  # hides warnings"
   ]
  },
  {
   "cell_type": "markdown",
   "id": "f1417379",
   "metadata": {},
   "source": [
    "# Dataset context\n",
    "\n",
    "After a customer purchases the product from Olist Store a seller gets notified to fulfill that order. Once the customer receives the product, or the estimated delivery date is due, the customer gets a satisfaction survey by email where he can give a note for the purchase experience and write down some comments."
   ]
  },
  {
   "cell_type": "markdown",
   "id": "b490e9f5",
   "metadata": {},
   "source": [
    "# EDA"
   ]
  },
  {
   "cell_type": "code",
   "execution_count": 18,
   "id": "bed9db51",
   "metadata": {},
   "outputs": [
    {
     "data": {
      "text/plain": [
       "Index(['customer_id', 'customer_unique_id', 'customer_zip_code_prefix',\n",
       "       'customer_city', 'customer_state'],\n",
       "      dtype='object')"
      ]
     },
     "execution_count": 18,
     "metadata": {},
     "output_type": "execute_result"
    }
   ],
   "source": [
    "customers = pd.read_csv(r\"C:\\Users\\felip\\Desktop\\E-commerce SQL and Python Analytics Project\\data\\olist_customers_dataset.csv\")\n",
    "\n",
    "customers.columns"
   ]
  },
  {
   "cell_type": "code",
   "execution_count": 19,
   "id": "13523c61",
   "metadata": {},
   "outputs": [
    {
     "data": {
      "text/plain": [
       "Index(['geolocation_zip_code_prefix', 'geolocation_lat', 'geolocation_lng',\n",
       "       'geolocation_city', 'geolocation_state'],\n",
       "      dtype='object')"
      ]
     },
     "execution_count": 19,
     "metadata": {},
     "output_type": "execute_result"
    }
   ],
   "source": [
    "geolocation = pd.read_csv(r\"C:\\Users\\felip\\Desktop\\E-commerce SQL and Python Analytics Project\\data\\olist_geolocation_dataset.csv\")\n",
    "\n",
    "geolocation.columns"
   ]
  },
  {
   "cell_type": "code",
   "execution_count": 12,
   "id": "93581e2f",
   "metadata": {},
   "outputs": [
    {
     "data": {
      "text/plain": [
       "Index(['order_id', 'order_item_id', 'product_id', 'seller_id',\n",
       "       'shipping_limit_date', 'price', 'freight_value'],\n",
       "      dtype='object')"
      ]
     },
     "execution_count": 12,
     "metadata": {},
     "output_type": "execute_result"
    }
   ],
   "source": [
    "order_items = pd.read_csv(r\"C:\\Users\\felip\\Desktop\\E-commerce SQL and Python Analytics Project\\data\\olist_order_items_dataset.csv\")\n",
    "\n",
    "order_items.columns"
   ]
  },
  {
   "cell_type": "code",
   "execution_count": 13,
   "id": "a48d35ce",
   "metadata": {},
   "outputs": [
    {
     "data": {
      "text/plain": [
       "Index(['order_id', 'payment_sequential', 'payment_type',\n",
       "       'payment_installments', 'payment_value'],\n",
       "      dtype='object')"
      ]
     },
     "execution_count": 13,
     "metadata": {},
     "output_type": "execute_result"
    }
   ],
   "source": [
    "order_payments = pd.read_csv(r\"C:\\Users\\felip\\Desktop\\E-commerce SQL and Python Analytics Project\\data\\olist_order_payments_dataset.csv\")\n",
    "\n",
    "order_payments.columns"
   ]
  },
  {
   "cell_type": "code",
   "execution_count": 22,
   "id": "4c1f3d87",
   "metadata": {},
   "outputs": [
    {
     "data": {
      "text/plain": [
       "Index(['review_id', 'order_id', 'review_score', 'review_comment_title',\n",
       "       'review_comment_message', 'review_creation_date',\n",
       "       'review_answer_timestamp'],\n",
       "      dtype='object')"
      ]
     },
     "execution_count": 22,
     "metadata": {},
     "output_type": "execute_result"
    }
   ],
   "source": [
    "order_reviews = pd.read_csv(r\"C:\\Users\\felip\\Desktop\\E-commerce SQL and Python Analytics Project\\data\\olist_order_reviews_dataset.csv\")\n",
    "\n",
    "order_reviews.columns"
   ]
  },
  {
   "cell_type": "code",
   "execution_count": 14,
   "id": "838b3551",
   "metadata": {},
   "outputs": [
    {
     "data": {
      "text/plain": [
       "Index(['order_id', 'customer_id', 'order_status', 'order_purchase_timestamp',\n",
       "       'order_approved_at', 'order_delivered_carrier_date',\n",
       "       'order_delivered_customer_date', 'order_estimated_delivery_date'],\n",
       "      dtype='object')"
      ]
     },
     "execution_count": 14,
     "metadata": {},
     "output_type": "execute_result"
    }
   ],
   "source": [
    "orders = pd.read_csv(r\"C:\\Users\\felip\\Desktop\\E-commerce SQL and Python Analytics Project\\data\\olist_orders_dataset.csv\")\n",
    "\n",
    "orders.columns"
   ]
  },
  {
   "cell_type": "code",
   "execution_count": 15,
   "id": "57311837",
   "metadata": {},
   "outputs": [
    {
     "data": {
      "text/plain": [
       "Index(['product_id', 'product_category_name', 'product_name_lenght',\n",
       "       'product_description_lenght', 'product_photos_qty', 'product_weight_g',\n",
       "       'product_length_cm', 'product_height_cm', 'product_width_cm'],\n",
       "      dtype='object')"
      ]
     },
     "execution_count": 15,
     "metadata": {},
     "output_type": "execute_result"
    }
   ],
   "source": [
    "products = pd.read_csv(r\"C:\\Users\\felip\\Desktop\\E-commerce SQL and Python Analytics Project\\data\\olist_products_dataset.csv\")\n",
    "\n",
    "products.columns"
   ]
  },
  {
   "cell_type": "code",
   "execution_count": 20,
   "id": "26fe26a3",
   "metadata": {},
   "outputs": [
    {
     "data": {
      "text/plain": [
       "Index(['seller_id', 'seller_zip_code_prefix', 'seller_city', 'seller_state'], dtype='object')"
      ]
     },
     "execution_count": 20,
     "metadata": {},
     "output_type": "execute_result"
    }
   ],
   "source": [
    "sellers = pd.read_csv(r\"C:\\Users\\felip\\Desktop\\E-commerce SQL and Python Analytics Project\\data\\olist_sellers_dataset.csv\")\n",
    "\n",
    "sellers.columns"
   ]
  },
  {
   "cell_type": "code",
   "execution_count": 21,
   "id": "5ba5ade8",
   "metadata": {},
   "outputs": [
    {
     "data": {
      "text/plain": [
       "Index(['product_category_name', 'product_category_name_english'], dtype='object')"
      ]
     },
     "execution_count": 21,
     "metadata": {},
     "output_type": "execute_result"
    }
   ],
   "source": [
    "product_cat = pd.read_csv(r\"C:\\Users\\felip\\Desktop\\E-commerce SQL and Python Analytics Project\\data\\product_category_name_translation.csv\")\n",
    "\n",
    "product_cat.columns"
   ]
  },
  {
   "cell_type": "markdown",
   "id": "91bd41a3",
   "metadata": {},
   "source": [
    "**Nota: para completar esto debo hacer un EDA**\n",
    "\n",
    "## Objetivo de negocio\n",
    "1 frase + grano (día/semana/mes)\n",
    "\n",
    "\"\"\n",
    "\n",
    "## KPIs:\n",
    "\n",
    "- \n",
    "-\n",
    "-\n",
    "-\n",
    "-\n",
    "\n",
    "## Preguntas de negocios\n",
    "\n",
    "- ¿Qué categoría de producto es la más vendida?\n",
    "- ¿Qué producto es el más vendido?\n",
    "- ¿Top 10 (ó 5) clientes que más compran?\n",
    "    - ¿Qué compran?\n",
    "- ¿Top 10 sellers?\n",
    "    - ¿Qué venden los top 10 sellers?\n",
    "- ¿Cuál es el performance de los shippings?"
   ]
  }
 ],
 "metadata": {
  "kernelspec": {
   "display_name": ".venv",
   "language": "python",
   "name": "python3"
  },
  "language_info": {
   "codemirror_mode": {
    "name": "ipython",
    "version": 3
   },
   "file_extension": ".py",
   "mimetype": "text/x-python",
   "name": "python",
   "nbconvert_exporter": "python",
   "pygments_lexer": "ipython3",
   "version": "3.11.0"
  }
 },
 "nbformat": 4,
 "nbformat_minor": 5
}
